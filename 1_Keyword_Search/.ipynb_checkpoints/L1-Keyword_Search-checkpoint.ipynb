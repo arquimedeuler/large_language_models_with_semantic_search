{
 "cells": [
  {
   "cell_type": "markdown",
   "id": "45b98f11",
   "metadata": {},
   "source": [
    "# Keyword Search"
   ]
  },
  {
   "cell_type": "markdown",
   "id": "06335224",
   "metadata": {},
   "source": [
    "## Setup\n",
    "\n",
    "Load needed API keys and relevant Python libaries."
   ]
  },
  {
   "cell_type": "code",
   "execution_count": 1,
   "id": "c54004a6",
   "metadata": {
    "height": 47
   },
   "outputs": [],
   "source": [
    "# !pip install cohere\n",
    "# !pip install weaviate-client"
   ]
  },
  {
   "cell_type": "code",
   "execution_count": 1,
   "id": "45ff94ae-8603-431a-acee-0ec3a39a1056",
   "metadata": {
    "height": 64
   },
   "outputs": [],
   "source": [
    "import os\n",
    "from dotenv import load_dotenv, find_dotenv\n",
    "_ = load_dotenv(find_dotenv()) # read local .env file"
   ]
  },
  {
   "cell_type": "markdown",
   "id": "c23677b6",
   "metadata": {},
   "source": [
    "Let's start by imporing Weaviate to access the Wikipedia database."
   ]
  },
  {
   "cell_type": "code",
   "execution_count": 19,
   "id": "f44886bf-f8cf-4f90-83ae-2299ec448e16",
   "metadata": {
    "height": 98
   },
   "outputs": [],
   "source": [
    "import weaviate\n",
    "auth_config = weaviate.auth.AuthApiKey(api_key = \"76320a90-53d8-42bc-b41d-678647c6672e\")"
   ]
  },
  {
   "cell_type": "code",
   "execution_count": 24,
   "id": "750583ec-7263-4927-b484-9818fba3318b",
   "metadata": {
    "height": 132
   },
   "outputs": [],
   "source": [
    "client = weaviate.Client(url = \"https://cohere-demo.weaviate.network/\",\n",
    "                         auth_client_secret = auth_config,\n",
    "                         additional_headers = {\"X-Cohere-Api-Key\":\n",
    "                                               \"c70AvJ6DUm1S6kwQJUyJsPEAI683RH2DjOr7QPiG\",\n",
    "                                              })"
   ]
  },
  {
   "cell_type": "code",
   "execution_count": 25,
   "id": "2efcdfdc-1566-4046-95d8-f9f2f3a36088",
   "metadata": {
    "height": 30
   },
   "outputs": [
    {
     "data": {
      "text/plain": [
       "True"
      ]
     },
     "execution_count": 25,
     "metadata": {},
     "output_type": "execute_result"
    }
   ],
   "source": [
    "client.is_ready() "
   ]
  },
  {
   "cell_type": "markdown",
   "id": "78acc1ed",
   "metadata": {},
   "source": [
    "# Keyword Search"
   ]
  },
  {
   "cell_type": "code",
   "execution_count": 35,
   "id": "017cd922-c729-4aa7-8696-d11d28eb7288",
   "metadata": {
    "height": 404
   },
   "outputs": [],
   "source": [
    "def keyword_search(query,\n",
    "                   results_lang = \"en\",\n",
    "                   properties = [\"title\", \"url\", \"text\"],\n",
    "                   num_results= 5):\n",
    "\n",
    "    where_filter = {\"path\": [\"lang\"],\n",
    "                    \"operator\": \"Equal\",\n",
    "                    \"valueString\": results_lang}\n",
    "    \n",
    "    response = (client.query.get(\"Articles\", properties)\n",
    "                .with_bm25(query=query)\n",
    "                .with_where(where_filter)\n",
    "                .with_limit(num_results)\n",
    "                .do())\n",
    "    \n",
    "    result = response[\"data\"][\"Get\"][\"Articles\"]\n",
    "    return result\n",
    "\n",
    "#El formato no es muy bueno"
   ]
  },
  {
   "cell_type": "code",
   "execution_count": 36,
   "id": "5a9e70d9-326f-443c-915a-5a97c0dfe54b",
   "metadata": {
    "height": 64
   },
   "outputs": [
    {
     "name": "stdout",
     "output_type": "stream",
     "text": [
      "[{'text': 'James Clerk Maxwell was born on 13 June 1831 at 14 India Street, Edinburgh, to John Clerk Maxwell of Middlebie, an advocate, and Frances Cay, daughter of Robert Hodshon Cay and sister of John Cay. (His birthplace now houses a museum operated by the James Clerk Maxwell Foundation.) His father was a man of comfortable means of the Clerk family of Penicuik, holders of the baronetcy of Clerk of Penicuik. His father\\'s brother was the 6th baronet. He had been born \"John Clerk\", adding \"Maxwell\" to his own after he inherited (as an infant in 1793) the Middlebie estate, a Maxwell property in Dumfriesshire. James was a first cousin of both the artist Jemima Blackburn (the daughter of his father\\'s sister) and the civil engineer William Dyce Cay (the son of his mother\\'s brother). Cay and Maxwell were close friends and Cay acted as his best man when Maxwell married.', 'title': 'James Clerk Maxwell', 'url': 'https://en.wikipedia.org/wiki?curid=28989696'}, {'text': 'Maxwell is buried at Parton Kirk, near Castle Douglas in Galloway close to where he grew up. The extended biography \"The Life of James Clerk Maxwell\", by his former schoolfellow and lifelong friend Professor Lewis Campbell, was published in 1882. His collected works were issued in two volumes by the Cambridge University Press in 1890.', 'title': 'James Clerk Maxwell', 'url': 'https://en.wikipedia.org/wiki?curid=28989696'}, {'text': 'James Clerk Maxwell (13 June 1831\\xa0– 5 November 1879) was a Scottish mathematician and scientist responsible for the classical theory of electromagnetic radiation, which was the first theory to describe electricity, magnetism and light as different manifestations of the same phenomenon. Maxwell\\'s equations for electromagnetism have been called the \"second great unification in physics\" where the first one had been realised by Isaac Newton.', 'title': 'James Clerk Maxwell', 'url': 'https://en.wikipedia.org/wiki?curid=28989696'}, {'text': 'Maxwell also investigated the kinetic theory of gases. Originating with Daniel Bernoulli, this theory was advanced by the successive labours of John Herapath, John James Waterston, James Joule, and particularly Rudolf Clausius, to such an extent as to put its general accuracy beyond a doubt; but it received enormous development from Maxwell, who in this field appeared as an experimenter (on the laws of gaseous friction) as well as a mathematician.', 'title': 'James Clerk Maxwell', 'url': 'https://en.wikipedia.org/wiki?curid=28989696'}, {'text': 'Maxwell\\'s interests ranged far beyond the school syllabus and he did not pay particular attention to examination performance. He wrote his first scientific paper at the age of 14. In it he described a mechanical means of drawing mathematical curves with a piece of twine, and the properties of ellipses, Cartesian ovals, and related curves with more than two foci. The work, of 1846, \"On the description of oval curves and those having a plurality of foci\" was presented to the Royal Society of Edinburgh by James Forbes, a professor of natural philosophy at the University of Edinburgh, because Maxwell was deemed too young to present the work himself. The work was not entirely original, since René Descartes had also examined the properties of such multifocal ellipses in the 17th century, but Maxwell had simplified their construction.', 'title': 'James Clerk Maxwell', 'url': 'https://en.wikipedia.org/wiki?curid=28989696'}]\n"
     ]
    }
   ],
   "source": [
    "query = \"Who was James Clerk Maxwell?\"\n",
    "keyword_search_results = keyword_search(query)\n",
    "print(keyword_search_results)"
   ]
  },
  {
   "cell_type": "markdown",
   "id": "b15686a7",
   "metadata": {},
   "source": [
    "### Try modifying the search options\n",
    "- Other languages to try: `en, de, fr, es, it, ja, ar, zh, ko, hi`"
   ]
  },
  {
   "cell_type": "code",
   "execution_count": 37,
   "id": "260397fc-2799-426d-8b82-afbe9c3a126e",
   "metadata": {
    "height": 47
   },
   "outputs": [],
   "source": [
    "properties = [\"text\", \"title\", \"url\", \"views\", \"lang\"]"
   ]
  },
  {
   "cell_type": "code",
   "execution_count": 38,
   "id": "2a2daa0b-dd23-4ffd-8b3d-d08b73e052b9",
   "metadata": {
    "height": 149
   },
   "outputs": [],
   "source": [
    "#Mejoramos el formato\n",
    "\n",
    "def print_result(result):\n",
    "    \"\"\" Print results with colorful formatting \"\"\"\n",
    "    for i, item in enumerate(result):\n",
    "        print(f\"item {i}\")\n",
    "        for key in item.keys():\n",
    "            print(f\"{key}: {item.get(key)}\")\n",
    "            print()\n",
    "        print()"
   ]
  },
  {
   "cell_type": "code",
   "execution_count": 39,
   "id": "6bdb1635-adad-411b-8059-d6b8b251fb2c",
   "metadata": {
    "height": 30,
    "scrolled": true
   },
   "outputs": [
    {
     "name": "stdout",
     "output_type": "stream",
     "text": [
      "item 0\n",
      "text: James Clerk Maxwell was born on 13 June 1831 at 14 India Street, Edinburgh, to John Clerk Maxwell of Middlebie, an advocate, and Frances Cay, daughter of Robert Hodshon Cay and sister of John Cay. (His birthplace now houses a museum operated by the James Clerk Maxwell Foundation.) His father was a man of comfortable means of the Clerk family of Penicuik, holders of the baronetcy of Clerk of Penicuik. His father's brother was the 6th baronet. He had been born \"John Clerk\", adding \"Maxwell\" to his own after he inherited (as an infant in 1793) the Middlebie estate, a Maxwell property in Dumfriesshire. James was a first cousin of both the artist Jemima Blackburn (the daughter of his father's sister) and the civil engineer William Dyce Cay (the son of his mother's brother). Cay and Maxwell were close friends and Cay acted as his best man when Maxwell married.\n",
      "\n",
      "title: James Clerk Maxwell\n",
      "\n",
      "url: https://en.wikipedia.org/wiki?curid=28989696\n",
      "\n",
      "\n",
      "item 1\n",
      "text: Maxwell is buried at Parton Kirk, near Castle Douglas in Galloway close to where he grew up. The extended biography \"The Life of James Clerk Maxwell\", by his former schoolfellow and lifelong friend Professor Lewis Campbell, was published in 1882. His collected works were issued in two volumes by the Cambridge University Press in 1890.\n",
      "\n",
      "title: James Clerk Maxwell\n",
      "\n",
      "url: https://en.wikipedia.org/wiki?curid=28989696\n",
      "\n",
      "\n",
      "item 2\n",
      "text: James Clerk Maxwell (13 June 1831 – 5 November 1879) was a Scottish mathematician and scientist responsible for the classical theory of electromagnetic radiation, which was the first theory to describe electricity, magnetism and light as different manifestations of the same phenomenon. Maxwell's equations for electromagnetism have been called the \"second great unification in physics\" where the first one had been realised by Isaac Newton.\n",
      "\n",
      "title: James Clerk Maxwell\n",
      "\n",
      "url: https://en.wikipedia.org/wiki?curid=28989696\n",
      "\n",
      "\n",
      "item 3\n",
      "text: Maxwell also investigated the kinetic theory of gases. Originating with Daniel Bernoulli, this theory was advanced by the successive labours of John Herapath, John James Waterston, James Joule, and particularly Rudolf Clausius, to such an extent as to put its general accuracy beyond a doubt; but it received enormous development from Maxwell, who in this field appeared as an experimenter (on the laws of gaseous friction) as well as a mathematician.\n",
      "\n",
      "title: James Clerk Maxwell\n",
      "\n",
      "url: https://en.wikipedia.org/wiki?curid=28989696\n",
      "\n",
      "\n",
      "item 4\n",
      "text: Maxwell's interests ranged far beyond the school syllabus and he did not pay particular attention to examination performance. He wrote his first scientific paper at the age of 14. In it he described a mechanical means of drawing mathematical curves with a piece of twine, and the properties of ellipses, Cartesian ovals, and related curves with more than two foci. The work, of 1846, \"On the description of oval curves and those having a plurality of foci\" was presented to the Royal Society of Edinburgh by James Forbes, a professor of natural philosophy at the University of Edinburgh, because Maxwell was deemed too young to present the work himself. The work was not entirely original, since René Descartes had also examined the properties of such multifocal ellipses in the 17th century, but Maxwell had simplified their construction.\n",
      "\n",
      "title: James Clerk Maxwell\n",
      "\n",
      "url: https://en.wikipedia.org/wiki?curid=28989696\n",
      "\n",
      "\n"
     ]
    }
   ],
   "source": [
    "print_result(keyword_search_results)"
   ]
  },
  {
   "cell_type": "code",
   "execution_count": 40,
   "id": "2350fa0e-f896-42af-bcb1-a7577f9c9be1",
   "metadata": {
    "height": 64
   },
   "outputs": [
    {
     "name": "stdout",
     "output_type": "stream",
     "text": [
      "item 0\n",
      "text: Los Hawks de Dominique Wilkins eran un escollo muy duro de pelar. En 1988 en una de las grandes series de playoffs que se recuerdan, Wilkins, un asiduo al espectáculo, inmerso en su pura esencia, protagoniza, de la mano del mejor alero que ha parido la NBA, Larry Bird, la siguiente heroicidad traducida en forma de partido-duelo. Dicha historia trata de retroceder en el tiempo para llevarnos a uno de los mejores encuentros que se han podido visualizar en Playoffs (finales aparte): Boston Celtics y Atlanta Hawks marchaban con la serie empatada a 3, encuentro a vida o muerte para discernir quién acompañaría a Detroit en la Final de Conferencia Este.\n",
      "\n",
      "title: Historia de la NBA\n",
      "\n",
      "url: https://es.wikipedia.org/wiki?curid=1001161\n",
      "\n",
      "\n",
      "item 1\n",
      "text: Los historiadores someten a los evangelios a un análisis crítico, en un intento de diferenciar mejor lo auténtico, información fidedigna de posibles invenciones, exageraciones, y alteraciones. Puesto que hay más variantes textuales en el Nuevo Testamento (200-400 mil) que letras en sus escritos (c. 140 mil), los estudiosos utilizan la crítica textual para determinar qué variantes del evangelio podrían teóricamente tomarse como «originales». Para responder a esta pregunta, los investigadores tienen que preguntarse quién escribió los evangelios, cuándo los escribieron, cuál era su objetivo al escribir, qué fuentes utilizaron los autores, el grado de fiabilidad de estas fuentes, y cuán alejados temporalmente estaban las fuentes de la historias que narran, o si se alteraron después. Los estudiosos también pueden mirar en la evidencia interna de los documentos, para ver si, por ejemplo, el documento está citando erróneamente textos del Tanaj hebreo, está haciendo afirmaciones sobre la geografía que son incorrectas, si el autor parece estar ocultando información, o si el autor ha hecho una profecía acertada. Por último, los expertos recurren a fuentes externas, incluyendo el testimonio de los líderes de la iglesia primitiva, escritores fuera de la iglesia (los historiadores, principalmente judíos y grecorromanos) que habría sido más propensos a haber criticado a la iglesia primitiva, y la evidencia arqueológica.\n",
      "\n",
      "title: Historicidad de Jesús\n",
      "\n",
      "url: https://es.wikipedia.org/wiki?curid=1682512\n",
      "\n",
      "\n",
      "item 2\n",
      "text: Llegados al partido que determinaría quien acompañaría a San Antonio Spurs en la final de Conferencia, Houston, como si por la varita mágica hubieran sido tocados, consumaron 24 últimos minutos prodigiosos, que ni el más optimista hubiera imaginado. Tras una primera parte irregular, los Rockets se marcharon 10 abajo camino de vestuarios, con la eliminatoria en vilo, pero sin perderle la cara al encuentro. Sin embargo, lo dicho, lo brutal estaría por llegar. La mejor 2.ª parte que jamás ha cuajado Houston (y una de las grandes de la historia de playoffs) durante su ya larga historia permitió la reacción, fundada en un desaforado 73 % de acierto en tiro. El encargado de hacer del sueño una realidad fue Mario Elie, quien nos obsequió con un triple desde el vértice en que se encontraba el banquillo de Houston, que explotó de júbilo en el preciso instante en que la pelota se rebozó con las redes para poner el 113-110 en el electrónico. Tan solo restaban 7 segundos, en los que lo más que hizo Phoenix Suns fue maquillar el resultado hasta el 115-114 definitivo. A continuación darían rápida cuenta de Orlando Magic en las finales, ganando por 4-0 en lo que suponía su 2.º título consecutivo.\n",
      "\n",
      "title: Historia de la NBA\n",
      "\n",
      "url: https://es.wikipedia.org/wiki?curid=1001161\n",
      "\n",
      "\n",
      "item 3\n",
      "text: Comenzado en algún momento antes de 1426 y terminado, al menos en parte, para el año 1432, este políptico se considera que representa «la conquista final de la realidad en el Norte», que se diferencia de las grandes obras del Primer Renacimiento en la Italia en virtud de su deseo de privarse de la idealización clásica a favor de una observación fiel de la naturaleza. Se encuentra en su ubicación original, la catedral de San Bavón en Gante, Bélgica. Ha tenido una historia turbulenta, sobreviviendo a los alzamientos iconoclastas del , la Revolución Francesa, gustos cambiantes que llevaron a su diseminación, y más recientemente el saqueo de los nazis. Cuando la Segunda Guerra Mundial acabó fue recuperado en una mina de sal. No menos turbulenta fue la historia de la interpretación de esta obra. Una cuarteta de versos alejandrinos en latín, copia de la original que figuraba en este retablo, oculta bajo la pintura y descubierta por medio de rayos X, afirma que Hubert comenzó la obra y la culminó Jan: Hubert van Eyck \"maior quo nemo repertus\" (más grande que cualquier otro) comenzó el retablo, pero Jan van Eyck – llamándose a sí mismo \"arte secundus\" (segundo mejor en el arte) – lo acabó. Según esta inscripción, el Políptico de Gante es el resultado del esfuerzo colaborador de Jan van Eyck y su hermano Hubert. La interpretación tradicional es que Jan reunió los paneles que Hubert tenía comenzados antes de su muerte en 1426, y añadió otros nuevos de su propia creación, ensamblándolos todos juntos. La cuestión de quién pintó qué, «¿Jan o Hubert?» se ha convertido en una cuestión mítica entre los historiadores del arte. La crítica parece hoy inclinada a atribuir a Hubert la concepción y en parte la ejecución de la tabla con la Adoración y de las tres tablas superiores, mientras que todo el resto lo ejecutaría Jan que trabajó en ella de manera alterna, de ahí la falta de homogeneidad entre diversos compartimentos, que para ser apreciado por completo deben ser analizados singularmente. Pero hay algunos que se cuestionan, incluso, la validez de la inscripción, y de ahí la implicación de Hubert van Eyck en la obra. Hacia 1930, Emil Renders incluso sostuvo que «Hubert van Eyck» era una total ficción inventada por los humanistas de Gante en el . Más recientemente, Lotte Brand Philip (1971) ha propuesto que la inscripción en el Políptico de Gante ha sido malinterpretada, y que Hubert era (en latín) el «fictor», no el «pictor», de la obra. Ella interpreta esto en el sentido de que Jan van Eyck pintó todo el retablo, mientras que su hermano Hubert creó el marco escultórico.\n",
      "\n",
      "title: Jan van Eyck\n",
      "\n",
      "url: https://es.wikipedia.org/wiki?curid=32560\n",
      "\n",
      "\n",
      "item 4\n",
      "text: En las finales de conferencia se enfrentaban al tercer mejor equipo de la conferencia, Indiana Pacers de Paul George, quién le dio más de un dolor de cabeza al trío de Miami, llevándolos junto a Roy Hibbert a un 7.º partido, donde James, con 31 puntos y Wade con 21 guiaron a los Heat a sus terceras finales consecutivas.\n",
      "\n",
      "title: Historia de la NBA\n",
      "\n",
      "url: https://es.wikipedia.org/wiki?curid=1001161\n",
      "\n",
      "\n"
     ]
    }
   ],
   "source": [
    "query = \"¿Quién ha sido el mejor músico de la historia?\"\n",
    "keyword_search_results = keyword_search(query, results_lang = \"es\")\n",
    "print_result(keyword_search_results)"
   ]
  },
  {
   "cell_type": "markdown",
   "id": "3626be64-3383-48fb-9be9-46e851014556",
   "metadata": {
    "height": 30
   },
   "source": [
    "Los resultados son muy malos. Se necesita implementar algo para mejorar esto."
   ]
  }
 ],
 "metadata": {
  "kernelspec": {
   "display_name": "Python 3 (ipykernel)",
   "language": "python",
   "name": "python3"
  },
  "language_info": {
   "codemirror_mode": {
    "name": "ipython",
    "version": 3
   },
   "file_extension": ".py",
   "mimetype": "text/x-python",
   "name": "python",
   "nbconvert_exporter": "python",
   "pygments_lexer": "ipython3",
   "version": "3.12.1"
  }
 },
 "nbformat": 4,
 "nbformat_minor": 5
}
