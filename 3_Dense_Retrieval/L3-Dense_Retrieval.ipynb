{
 "cells": [
  {
   "cell_type": "markdown",
   "id": "091f7b6a-7cb7-42d3-bd7c-ecb220be50e2",
   "metadata": {},
   "source": [
    "# Dense Retrieval"
   ]
  },
  {
   "cell_type": "markdown",
   "id": "256dab03-9a96-4a14-b344-61732f59045a",
   "metadata": {},
   "source": [
    "## Setup\r\n",
    "\r\n",
    "Load needed API keys and relevant Python libaries."
   ]
  },
  {
   "cell_type": "code",
   "execution_count": 1,
   "id": "f0616e90-9341-4efa-8cd7-1ea52331adfb",
   "metadata": {},
   "outputs": [],
   "source": [
    "# !pip install cohere \n",
    "# !pip install weaviate-client Annoy"
   ]
  },
  {
   "cell_type": "code",
   "execution_count": 2,
   "id": "92973ea6-f0fc-42ea-b2c3-1e8f632036b9",
   "metadata": {},
   "outputs": [],
   "source": [
    "import os\n",
    "from dotenv import load_dotenv, find_dotenv\n",
    "_ = load_dotenv(find_dotenv()) # read local .env file"
   ]
  },
  {
   "cell_type": "code",
   "execution_count": 3,
   "id": "1679ef16-61f0-415e-82dd-3cdfed01fe57",
   "metadata": {},
   "outputs": [],
   "source": [
    "import cohere\n",
    "co = cohere.Client(\"YOUR_API_KEY\")"
   ]
  },
  {
   "cell_type": "code",
   "execution_count": 4,
   "id": "eb3a7754-4d52-4023-ac99-64e61901c09c",
   "metadata": {},
   "outputs": [],
   "source": [
    "import weaviate\n",
    "auth_config = weaviate.auth.AuthApiKey(api_key = \"76320a90-53d8-42bc-b41d-678647c6672e\")"
   ]
  },
  {
   "cell_type": "code",
   "execution_count": 6,
   "id": "f3e6269d-242e-4171-8603-4cd146952ae9",
   "metadata": {},
   "outputs": [
    {
     "data": {
      "text/plain": [
       "True"
      ]
     },
     "execution_count": 6,
     "metadata": {},
     "output_type": "execute_result"
    }
   ],
   "source": [
    "client = weaviate.Client(url = \"https://cohere-demo.weaviate.network/\",\n",
    "                         auth_client_secret = auth_config,\n",
    "                         additional_headers = {\"X-Cohere-Api-Key\":\n",
    "                                               \"YOUR_API_KEY\",\n",
    "                                              })\n",
    "client.is_ready()"
   ]
  },
  {
   "cell_type": "markdown",
   "id": "a2235724-a334-4e79-aa81-758b2b66cbe4",
   "metadata": {},
   "source": [
    "## Part 1: Vector Database for semantic Search"
   ]
  },
  {
   "cell_type": "code",
   "execution_count": 7,
   "id": "5295a32a-8ea3-42a2-817d-ef7a5a1c8640",
   "metadata": {},
   "outputs": [],
   "source": [
    "def dense_retrieval(query, \n",
    "                    results_lang = \"en\",\n",
    "                    properties = [\"text\", \"title\", \"url\", \"views\", \"lang\", \"_additional {distance}\"],\n",
    "                    num_results = 5):\n",
    "\n",
    "    nearText = {\"concepts\": [query]}\n",
    "    \n",
    "    # To filter by language\n",
    "    where_filter = {\"path\": [\"lang\"],\n",
    "                    \"operator\": \"Equal\",\n",
    "                    \"valueString\": results_lang}\n",
    "    response = (client.query\n",
    "                .get(\"Articles\", properties)\n",
    "                .with_near_text(nearText)\n",
    "                .with_where(where_filter)\n",
    "                .with_limit(num_results)\n",
    "                .do())\n",
    "\n",
    "    result = response[\"data\"][\"Get\"][\"Articles\"]\n",
    "\n",
    "    return result"
   ]
  },
  {
   "cell_type": "code",
   "execution_count": 8,
   "id": "e30f0314-732a-4052-a21f-34377ef83d0d",
   "metadata": {},
   "outputs": [],
   "source": [
    "from utils import print_result"
   ]
  },
  {
   "cell_type": "markdown",
   "id": "943dd246-3f0a-4747-bdff-bb328d64c304",
   "metadata": {},
   "source": [
    "### Basic Query"
   ]
  },
  {
   "cell_type": "code",
   "execution_count": 9,
   "id": "6e0e9448-c26a-4eea-9fad-5947a5ca71c7",
   "metadata": {},
   "outputs": [
    {
     "name": "stdout",
     "output_type": "stream",
     "text": [
      "item 0\n",
      "_additional:{'distance': -156.5397}\n",
      "\n",
      "lang:en\n",
      "\n",
      "text:James Clerk Maxwell (13 June 1831 – 5 November 1879) was a Scottish mathematician and scientist responsible for the classical theory of electromagnetic radiation, which was the first theory to describe electricity, magnetism and light as different manifestations of the same phenomenon. Maxwell's equations for electromagnetism have been called the \"second great unification in physics\" where the first one had been realised by Isaac Newton.\n",
      "\n",
      "title:James Clerk Maxwell\n",
      "\n",
      "url:https://en.wikipedia.org/wiki?curid=28989696\n",
      "\n",
      "views:2000\n",
      "\n",
      "\n",
      "item 1\n",
      "_additional:{'distance': -156.27994}\n",
      "\n",
      "lang:en\n",
      "\n",
      "text:In October 1850, already an accomplished mathematician, Maxwell left Scotland for the University of Cambridge. He initially attended Peterhouse, but before the end of his first term transferred to Trinity, where he believed it would be easier to obtain a fellowship. At Trinity he was elected to the elite secret society known as the Cambridge Apostles. Maxwell's intellectual understanding of his Christian faith and of science grew rapidly during his Cambridge years. He joined the \"Apostles\", an exclusive debating society of the intellectual elite, where through his essays he sought to work out this understanding.\n",
      "\n",
      "title:James Clerk Maxwell\n",
      "\n",
      "url:https://en.wikipedia.org/wiki?curid=28989696\n",
      "\n",
      "views:2000\n",
      "\n",
      "\n",
      "item 2\n",
      "_additional:{'distance': -155.34047}\n",
      "\n",
      "lang:en\n",
      "\n",
      "text:His discoveries helped usher in the era of modern physics, laying the foundation for such fields as special relativity and quantum mechanics. Many physicists regard Maxwell as the 19th-century scientist having the greatest influence on 20th-century physics. His contributions to the science are considered by many to be of the same magnitude as those of Isaac Newton and Albert Einstein. In the millennium poll—a survey of the 100 most prominent physicists—Maxwell was voted the third greatest physicist of all time, behind only Newton and Einstein. On the centenary of Maxwell's birthday, Einstein described Maxwell's work as the \"most profound and the most fruitful that physics has experienced since the time of Newton\". Einstein, when he visited the University of Cambridge in 1922, was told by his host that he had done great things because he stood on Newton's shoulders; Einstein replied: \"No I don't. I stand on the shoulders of Maxwell.\"\n",
      "\n",
      "title:James Clerk Maxwell\n",
      "\n",
      "url:https://en.wikipedia.org/wiki?curid=28989696\n",
      "\n",
      "views:2000\n",
      "\n",
      "\n",
      "item 3\n",
      "_additional:{'distance': -155.32455}\n",
      "\n",
      "lang:en\n",
      "\n",
      "text:Along with most physicists of the time, Maxwell had a strong interest in psychology. Following in the steps of Isaac Newton and Thomas Young, he was particularly interested in the study of colour vision. From 1855 to 1872, Maxwell published at intervals a series of investigations concerning the perception of colour, colour-blindness, and colour theory, and was awarded the Rumford Medal for \"On the Theory of Colour Vision\".\n",
      "\n",
      "title:James Clerk Maxwell\n",
      "\n",
      "url:https://en.wikipedia.org/wiki?curid=28989696\n",
      "\n",
      "views:2000\n",
      "\n",
      "\n",
      "item 4\n",
      "_additional:{'distance': -155.26125}\n",
      "\n",
      "lang:en\n",
      "\n",
      "text:James Clerk Maxwell was born on 13 June 1831 at 14 India Street, Edinburgh, to John Clerk Maxwell of Middlebie, an advocate, and Frances Cay, daughter of Robert Hodshon Cay and sister of John Cay. (His birthplace now houses a museum operated by the James Clerk Maxwell Foundation.) His father was a man of comfortable means of the Clerk family of Penicuik, holders of the baronetcy of Clerk of Penicuik. His father's brother was the 6th baronet. He had been born \"John Clerk\", adding \"Maxwell\" to his own after he inherited (as an infant in 1793) the Middlebie estate, a Maxwell property in Dumfriesshire. James was a first cousin of both the artist Jemima Blackburn (the daughter of his father's sister) and the civil engineer William Dyce Cay (the son of his mother's brother). Cay and Maxwell were close friends and Cay acted as his best man when Maxwell married.\n",
      "\n",
      "title:James Clerk Maxwell\n",
      "\n",
      "url:https://en.wikipedia.org/wiki?curid=28989696\n",
      "\n",
      "views:2000\n",
      "\n",
      "\n"
     ]
    }
   ],
   "source": [
    "query = \"Who was James Clerk Maxwell?\"\n",
    "dense_retrieval_results = dense_retrieval(query)\n",
    "print_result(dense_retrieval_results)"
   ]
  },
  {
   "cell_type": "markdown",
   "id": "5fdacd60-aa92-43cb-87cd-078d40a4435f",
   "metadata": {},
   "source": [
    "### Medium Query"
   ]
  },
  {
   "cell_type": "code",
   "execution_count": 10,
   "id": "33d7d162-fad6-47ea-a6ea-ce5a42107eab",
   "metadata": {},
   "outputs": [
    {
     "name": "stdout",
     "output_type": "stream",
     "text": [
      "item 0\n",
      "_additional:{'distance': -151.89143}\n",
      "\n",
      "lang:en\n",
      "\n",
      "text:In mathematics, the gamma function (represented by , the capital letter gamma from the Greek alphabet) is one commonly used extension of the factorial function to complex numbers. The gamma function is defined for all complex numbers except the non-positive integers. For every positive integer , formula_1\n",
      "\n",
      "title:Gamma function\n",
      "\n",
      "url:https://en.wikipedia.org/wiki?curid=12316\n",
      "\n",
      "views:2000\n",
      "\n",
      "\n",
      "item 1\n",
      "_additional:{'distance': -150.49522}\n",
      "\n",
      "lang:en\n",
      "\n",
      "text:In the context of technical and physical applications, e.g. with wave propagation, the functional equation\n",
      "\n",
      "title:Gamma function\n",
      "\n",
      "url:https://en.wikipedia.org/wiki?curid=12316\n",
      "\n",
      "views:2000\n",
      "\n",
      "\n",
      "item 2\n",
      "_additional:{'distance': -150.30193}\n",
      "\n",
      "lang:en\n",
      "\n",
      "text:When seeking to approximate formula_20 for a complex number formula_21, it is effective to first compute formula_22 for some large integer formula_23. Use that to approximate a value for formula_24, and then use the recursion relation formula_25 backwards formula_23 times, to unwind it to an approximation for formula_20. Furthermore, this approximation is exact in the limit as formula_23 goes to infinity.\n",
      "\n",
      "title:Gamma function\n",
      "\n",
      "url:https://en.wikipedia.org/wiki?curid=12316\n",
      "\n",
      "views:2000\n",
      "\n",
      "\n",
      "item 3\n",
      "_additional:{'distance': -149.85272}\n",
      "\n",
      "lang:en\n",
      "\n",
      "text:Double-precision floating-point implementations of the gamma function and its logarithm are now available in most scientific computing software and special functions libraries, for example TK Solver, Matlab, GNU Octave, and the GNU Scientific Library. The gamma function was also added to the C standard library (math.h). Arbitrary-precision implementations are available in most computer algebra systems, such as Mathematica and Maple. PARI/GP, MPFR and MPFUN contain free arbitrary-precision implementations. The Windows Calculator factorial function returns Γ(x+1) when the input x is a non-integer value.\n",
      "\n",
      "title:Gamma function\n",
      "\n",
      "url:https://en.wikipedia.org/wiki?curid=12316\n",
      "\n",
      "views:2000\n",
      "\n",
      "\n",
      "item 4\n",
      "_additional:{'distance': -149.55539}\n",
      "\n",
      "lang:en\n",
      "\n",
      "text:In a certain sense, the function is the more natural form; it makes some intrinsic attributes of the function clearer. A striking example is the Taylor series of around 1:\n",
      "\n",
      "title:Gamma function\n",
      "\n",
      "url:https://en.wikipedia.org/wiki?curid=12316\n",
      "\n",
      "views:2000\n",
      "\n",
      "\n"
     ]
    }
   ],
   "source": [
    "query = \"What is the Gamma function?\"\n",
    "dense_retrieval_results = dense_retrieval(query)\n",
    "print_result(dense_retrieval_results)"
   ]
  },
  {
   "cell_type": "code",
   "execution_count": 11,
   "id": "93556b45-59c3-4989-b380-ebc9324272c3",
   "metadata": {},
   "outputs": [
    {
     "name": "stdout",
     "output_type": "stream",
     "text": [
      "item 0\n",
      "text:The name gamma function and the symbol were introduced by Adrien-Marie Legendre around 1811; Legendre also rewrote Euler's integral definition in its modern form. Although the symbol is an upper-case Greek gamma, there is no accepted standard for whether the function name should be written \"gamma function\" or \"Gamma function\" (some authors simply write \"-function\"). The alternative \"pi function\" notation due to Gauss is sometimes encountered in older literature, but Legendre's notation is dominant in modern works.\n",
      "\n",
      "title:Gamma function\n",
      "\n",
      "url:https://en.wikipedia.org/wiki?curid=12316\n",
      "\n",
      "\n",
      "item 1\n",
      "text:By taking limits, certain rational products with infinitely many factors can be evaluated in terms of the gamma function as well. Due to the Weierstrass factorization theorem, analytic functions can be written as infinite products, and these can sometimes be represented as finite products or quotients of the gamma function. We have already seen one striking example: the reflection formula essentially represents the sine function as the product of two gamma functions. Starting from this formula, the exponential function as well as all the trigonometric and hyperbolic functions can be expressed in terms of the gamma function.\n",
      "\n",
      "title:Gamma function\n",
      "\n",
      "url:https://en.wikipedia.org/wiki?curid=12316\n",
      "\n",
      "\n",
      "item 2\n",
      "text:One way to prove would be to find a differential equation that characterizes the gamma function. Most special functions in applied mathematics arise as solutions to differential equations, whose solutions are unique. However, the gamma function does not appear to satisfy any simple differential equation. Otto Hölder proved in 1887 that the gamma function at least does not satisfy any \"algebraic\" differential equation by showing that a solution to such an equation could not satisfy the gamma function's recurrence formula, making it a transcendentally transcendental function. This result is known as Hölder's theorem.\n",
      "\n",
      "title:Gamma function\n",
      "\n",
      "url:https://en.wikipedia.org/wiki?curid=12316\n",
      "\n",
      "\n"
     ]
    }
   ],
   "source": [
    "from utils import keyword_search\n",
    "\n",
    "query = \"What is the Gamma function?\"\n",
    "keyword_search_results = keyword_search(query, client)\n",
    "print_result(keyword_search_results)"
   ]
  },
  {
   "cell_type": "markdown",
   "id": "3577ec52-8f0c-4e58-b179-25b51f8c8047",
   "metadata": {},
   "source": [
    "### Complicated Query"
   ]
  },
  {
   "cell_type": "code",
   "execution_count": 12,
   "id": "71a1cadb-6128-4a98-8dde-2c3c7edfb0c6",
   "metadata": {},
   "outputs": [
    {
     "name": "stdout",
     "output_type": "stream",
     "text": [
      "item 0\n",
      "text:The population of Japan peaked at 128,083,960 in 2008. It had decreased by 2,373,960 by December 2020. In 2011, the economy of China became the world's second largest. Japan's economy descended to third largest by nominal GDP. Despite Japan's economic difficulties, this period also saw Japanese popular culture, including video games, anime, and manga, expanding worldwide, especially among young people. In March 2011, the Tokyo Skytree became the tallest tower in the world at , displacing the Canton Tower. It is the second tallest structure in the world after the Burj Khalifa ().\n",
      "\n",
      "title:History of Japan\n",
      "\n",
      "url:https://en.wikipedia.org/wiki?curid=25890428\n",
      "\n",
      "\n",
      "item 1\n",
      "text:Alpinism author Jon Krakauer (1997) wrote in \"Into Thin Air\" that it would be a bigger challenge to climb the second-highest peak of each continent, known as the Seven Second Summits – a feat that was not accomplished until January 2013. This discussion had previously been published in an article titled \"The Second Seven Summits\" in Rock & Ice Magazine (#77) authored by the mountaineer and Seven Summits completer David Keaton. This is especially true for Asia, as K2 (8,611 m) demands greater technical climbing skills than Everest (8,848 m), while altitude-related factors such as the thinness of the atmosphere, high winds and low temperatures remain much the same. Some of those completing the seven ascents are aware of the magnitude of the challenge. In 2000, in a foreword to Steve Bell et al., \"Seven Summits\", Morrow opined \"[t]he only reason Reinhold [Messner] wasn’t the first person to complete the seven was that he was too busy gambolling up the 14 tallest mountains in the world.\"\n",
      "\n",
      "title:Seven Summits\n",
      "\n",
      "url:https://en.wikipedia.org/wiki?curid=220861\n",
      "\n",
      "\n",
      "item 2\n",
      "text:Hamad was able to focus on turning Qatar from a small desert backwater into a major world power by continuing to exploit the country’s vast oil fields and discovering and tapping the world’s third largest gas reserves. By 2010 liquefied natural gas production had reached 77 million tons, making Qatar the richest country in the world. With fewer than two million inhabitants, the average income in the country shot to a staggering $86,440 per year per person. Qatar expert Olivier Da Lage said: \"When he came to power in 1995, Sheikh Hamad had a goal to place Qatar on the world map by exploiting the gas resources which his father did not develop for fear it would change the emirate's society. Eighteen years on, he has finished the job – Qatar has acquired the financial clout to command respect from neighboring countries and Western governments alike\".In 2005, under the direction of Hamad and the former prime minister of Qatar Sheikh Hamad bin Jassim bin Jaber Al Thani, the Qatar Investment Authority was established, a sovereign wealth fund to manage the country's oil and natural gas surpluses. The Qatar Investment Authority and its subsidiaries have acquired many businesses abroad, including London's iconic department store Harrods from entrepreneur Mohammed Al-Fayed, Paris-based department store Printemps, French football club Paris Saint-Germain F.C., a former 10% stake in Porsche, a 75% stake in film studio Miramax Films which they acquired from Disney, a 2% stake in media conglomerate and Universal Music Group parent company Vivendi, a $100 million USD investment in Chernin Group – whose founder Peter Chernin was COO of News Corp and President of Fox, a 1% stake in luxury goods manufacturer Louis Vuitton Moët Hennessy, a 6% stake in Credit Suisse, a 12.6% stake in Barclays and several other major companies. They also backed Glencore's $31 billion takeover bid for Xstrata. Qatar is the largest property owner in London with their holdings including the United Kingdom's tallest building The Shard, the London Olympic Village and the InterContinental London Park Lane hotel. They also own several hotels in Cannes including the Majestic Hotel, Grand Hyatt Cannes Hôtel Martinez and the Carlton Hotel, Cannes. QIA was considered to have one of the leading bids in the sales of both Anschutz Entertainment Group and Hulu. As of May 2013, it was reported the Investment Authority was in talks to purchase Neiman Marcus and Bergdorf Goodman.\n",
      "\n",
      "title:Hamad bin Khalifa Al Thani\n",
      "\n",
      "url:https://en.wikipedia.org/wiki?curid=295929\n",
      "\n",
      "\n"
     ]
    }
   ],
   "source": [
    "from utils import keyword_search\n",
    "\n",
    "query = \"Tallest person in history?\"\n",
    "keyword_search_results = keyword_search(query, client)\n",
    "print_result(keyword_search_results)"
   ]
  },
  {
   "cell_type": "code",
   "execution_count": 13,
   "id": "406c029c-c6eb-47dd-96fc-6056eea4dd6e",
   "metadata": {},
   "outputs": [
    {
     "name": "stdout",
     "output_type": "stream",
     "text": [
      "item 0\n",
      "_additional:{'distance': -148.98888}\n",
      "\n",
      "lang:en\n",
      "\n",
      "text:Robert Pershing Wadlow (February 22, 1918 July 15, 1940), also known as the Alton Giant and the Giant of Illinois, was a man who was the tallest person in recorded history for whom there is irrefutable evidence. He was born and raised in Alton, Illinois, a small city near St. Louis, Missouri.\n",
      "\n",
      "title:Robert Wadlow\n",
      "\n",
      "url:https://en.wikipedia.org/wiki?curid=359117\n",
      "\n",
      "views:3000\n",
      "\n",
      "\n",
      "item 1\n",
      "_additional:{'distance': -148.09317}\n",
      "\n",
      "lang:en\n",
      "\n",
      "text:Bol came from a family of extraordinarily tall men and women. He said: \"My mother was , my father , and my sister is . And my great-grandfather was even taller—.\" His ethnic group, the Dinka, and the Nilotic people of which they are a part, are among the tallest populations in the world. Bol's hometown, Turalei, is the origin of other exceptionally tall people, including basketball player Ring Ayuel. \"I was born in a village, where you cannot measure yourself,\" Bol reflected. \"I learned I was 7 foot 7 in 1979, when I was grown. I was about 18 or 19.\"\n",
      "\n",
      "title:Manute Bol\n",
      "\n",
      "url:https://en.wikipedia.org/wiki?curid=283871\n",
      "\n",
      "views:2000\n",
      "\n",
      "\n",
      "item 2\n",
      "_additional:{'distance': -146.75945}\n",
      "\n",
      "lang:en\n",
      "\n",
      "text:One year before his death, Wadlow passed John Rogan as the tallest person ever. On June 27, 1940 (18 days before his death), he was measured by doctors at .\n",
      "\n",
      "title:Robert Wadlow\n",
      "\n",
      "url:https://en.wikipedia.org/wiki?curid=359117\n",
      "\n",
      "views:3000\n",
      "\n",
      "\n",
      "item 3\n",
      "_additional:{'distance': -146.63979}\n",
      "\n",
      "lang:en\n",
      "\n",
      "text:Kösen turned 40 years old on 10 December 2022. He celebrated his birthday a few days early by visiting the Ripley's Believe It or Not! museum in Orlando, Florida, USA and posing next to a life-sized statue of Robert Wadlow, the tallest man ever at 272 cm (8 ft 11.1 in).\n",
      "\n",
      "title:Sultan Kösen\n",
      "\n",
      "url:https://en.wikipedia.org/wiki?curid=8445237\n",
      "\n",
      "views:2000\n",
      "\n",
      "\n",
      "item 4\n",
      "_additional:{'distance': -146.57892}\n",
      "\n",
      "lang:en\n",
      "\n",
      "text:Sultan Kösen (born 10 December 1982) is a Turkish farmer who holds the Guinness World Record for tallest living male at . Of Kurdish ethnicity, he is the seventh tallest man in history.\n",
      "\n",
      "title:Sultan Kösen\n",
      "\n",
      "url:https://en.wikipedia.org/wiki?curid=8445237\n",
      "\n",
      "views:2000\n",
      "\n",
      "\n"
     ]
    }
   ],
   "source": [
    "query = \"Tallest person in history\"\n",
    "dense_retrieval_results = dense_retrieval(query)\n",
    "print_result(dense_retrieval_results)"
   ]
  },
  {
   "cell_type": "code",
   "execution_count": 14,
   "id": "13d56607-be41-47ae-a595-a5d74c272869",
   "metadata": {},
   "outputs": [
    {
     "name": "stdout",
     "output_type": "stream",
     "text": [
      "item 0\n",
      "_additional:{'distance': -147.44199}\n",
      "\n",
      "lang:en\n",
      "\n",
      "text:Robert Pershing Wadlow (February 22, 1918 July 15, 1940), also known as the Alton Giant and the Giant of Illinois, was a man who was the tallest person in recorded history for whom there is irrefutable evidence. He was born and raised in Alton, Illinois, a small city near St. Louis, Missouri.\n",
      "\n",
      "title:Robert Wadlow\n",
      "\n",
      "url:https://en.wikipedia.org/wiki?curid=359117\n",
      "\n",
      "views:3000\n",
      "\n",
      "\n",
      "item 1\n",
      "_additional:{'distance': -147.09518}\n",
      "\n",
      "lang:en\n",
      "\n",
      "text:Kösen turned 40 years old on 10 December 2022. He celebrated his birthday a few days early by visiting the Ripley's Believe It or Not! museum in Orlando, Florida, USA and posing next to a life-sized statue of Robert Wadlow, the tallest man ever at 272 cm (8 ft 11.1 in).\n",
      "\n",
      "title:Sultan Kösen\n",
      "\n",
      "url:https://en.wikipedia.org/wiki?curid=8445237\n",
      "\n",
      "views:2000\n",
      "\n",
      "\n",
      "item 2\n",
      "_additional:{'distance': -146.9144}\n",
      "\n",
      "lang:en\n",
      "\n",
      "text:Bol and Gheorghe Mureșan are the two tallest players in the history of the National Basketball Association. Official NBA publications have listed Bol at either or tall. He was measured by the Guinness Book of World Records at 7 ft 6  in tall. Complementing his great height, Bol had exceptionally long limbs (inseam ) and large hands and feet (size 16 ). His arm span, at , is (as of 2013) the longest in NBA history, and his upward reach was . He was extremely slender, limiting his offensive capability.\n",
      "\n",
      "title:Manute Bol\n",
      "\n",
      "url:https://en.wikipedia.org/wiki?curid=283871\n",
      "\n",
      "views:2000\n",
      "\n",
      "\n",
      "item 3\n",
      "_additional:{'distance': -146.62762}\n",
      "\n",
      "lang:en\n",
      "\n",
      "text:Sultan Kösen (born 10 December 1982) is a Turkish farmer who holds the Guinness World Record for tallest living male at . Of Kurdish ethnicity, he is the seventh tallest man in history.\n",
      "\n",
      "title:Sultan Kösen\n",
      "\n",
      "url:https://en.wikipedia.org/wiki?curid=8445237\n",
      "\n",
      "views:2000\n",
      "\n",
      "\n",
      "item 4\n",
      "_additional:{'distance': -146.54651}\n",
      "\n",
      "lang:en\n",
      "\n",
      "text:Jonah Adam (Cardeli) Falcon (born July 29, 1970) is an American actor and television presenter. He came to international attention in 1999 because of his claim that he has the largest penis in the world, which he claims is long when erect; Falcon has not authorized or permitted independent verification of this figure.\n",
      "\n",
      "title:Jonah Falcon\n",
      "\n",
      "url:https://en.wikipedia.org/wiki?curid=22044645\n",
      "\n",
      "views:2000\n",
      "\n",
      "\n"
     ]
    }
   ],
   "source": [
    "query = \"أطول رجل في التاريخ\"\n",
    "dense_retrieval_results = dense_retrieval(query)\n",
    "print_result(dense_retrieval_results)"
   ]
  },
  {
   "cell_type": "code",
   "execution_count": 15,
   "id": "61a7e772-07ed-4e53-8266-87410a7133cf",
   "metadata": {},
   "outputs": [
    {
     "name": "stdout",
     "output_type": "stream",
     "text": [
      "item 0\n",
      "_additional:{'distance': -148.39377}\n",
      "\n",
      "lang:en\n",
      "\n",
      "text:The film was a co-production between the motion picture studios of Moving Picture Company, DNA Films, UK Film Council, and Ingenious Film Partners. Theatrically, it was commercially distributed by Fox Searchlight Pictures, while the 20th Century Fox Home Entertainment division released the film in the video rental market. \"Sunshine\" explores physics, science and religion. Following its wide release in theatres, the film garnered several award nominations for its acting, directing, and production merits. It also won an award for Best Technical Achievement for production designer Mark Tildesley from the British Independent Film Awards. was composed by John Murphy and was released by the Fox Music Group on 25 November 2008.\n",
      "\n",
      "title:Sunshine (2007 film)\n",
      "\n",
      "url:https://en.wikipedia.org/wiki?curid=3252860\n",
      "\n",
      "views:2000\n",
      "\n",
      "\n",
      "item 1\n",
      "_additional:{'distance': -148.22672}\n",
      "\n",
      "lang:en\n",
      "\n",
      "text:Patrick O'Donnell, professor of physics at the University of Toronto, served as the mathematical consultant for the film.\n",
      "\n",
      "title:Good Will Hunting\n",
      "\n",
      "url:https://en.wikipedia.org/wiki?curid=142456\n",
      "\n",
      "views:3000\n",
      "\n",
      "\n",
      "item 2\n",
      "_additional:{'distance': -148.16052}\n",
      "\n",
      "lang:en\n",
      "\n",
      "text:Writing in \"Physics World\", Laura Hiscott said that this \"genuinely funny and entertaining film\" would appeal to scientists, who would appreciate the \"nods to academia such as the importance of peer review, the 'publish or perish' problem and the issue of senior academics getting the credit for their PhD students’ discoveries\".\n",
      "\n",
      "title:Don't Look Up\n",
      "\n",
      "url:https://en.wikipedia.org/wiki?curid=62387071\n",
      "\n",
      "views:3000\n",
      "\n",
      "\n",
      "item 3\n",
      "_additional:{'distance': -147.7124}\n",
      "\n",
      "lang:en\n",
      "\n",
      "text:The science-fiction aspect of the film revolves around the ability to reverse the entropy of things and people, resulting in time reversibility. While the film does refer to real concepts from physics, among them annihilation, the second law of thermodynamics, Maxwell's demon, the grandfather paradox, and Feynman and Wheeler's Absorber Theory, Nolan stated in the film's press notes that \"we're not going to make any case for this being scientifically accurate\". Commenting on the scientific aspects of writing the script, he stated: \"I think the scientific method is the best tool we have for analysing and understanding the world around us ... I've been very inspired by working with great scientists like Kip Thorne, who I worked with on \"Interstellar\", who also helped me out with some early analysis of the ideas I wanted to explore to do with time and quantum physics on \"Tenet\", although I promised him I wasn't going to bandy his name around as if there was some kind of scientific reality to \"Tenet\". It's a very different kettle of fish to \"Interstellar\".\"\n",
      "\n",
      "title:Tenet (film)\n",
      "\n",
      "url:https://en.wikipedia.org/wiki?curid=59770239\n",
      "\n",
      "views:3000\n",
      "\n",
      "\n",
      "item 4\n",
      "_additional:{'distance': -147.43857}\n",
      "\n",
      "lang:en\n",
      "\n",
      "text:Ed Finn, director of the Center for Science and the Imagination at Arizona State University, said, \"What this story does really well is imagine a near-future scenario that doesn't push too far of where we are today technically.\" British physicist Brian Cox said, \"\"The Martian\" is the best advert for a career in engineering I've ever seen.\"\n",
      "\n",
      "title:The Martian (film)\n",
      "\n",
      "url:https://en.wikipedia.org/wiki?curid=43683268\n",
      "\n",
      "views:2000\n",
      "\n",
      "\n"
     ]
    }
   ],
   "source": [
    "query = \"film about physics\"\n",
    "dense_retrieval_results = dense_retrieval(query)\n",
    "print_result(dense_retrieval_results)"
   ]
  },
  {
   "cell_type": "markdown",
   "id": "f209676e-27f6-45b7-a517-4a26af09cad1",
   "metadata": {},
   "source": [
    "## Part 2: Building Semantic Search from Scratch\r\n",
    "\r\n",
    "### Get the text archive:"
   ]
  },
  {
   "cell_type": "code",
   "execution_count": 16,
   "id": "74e86772-1c46-4443-99a1-fd8e885c988b",
   "metadata": {},
   "outputs": [],
   "source": [
    "from annoy import AnnoyIndex\n",
    "import numpy as np\n",
    "import pandas as pd\n",
    "import re"
   ]
  },
  {
   "cell_type": "code",
   "execution_count": 17,
   "id": "5205f730-7f4c-4d2e-8a31-024ae0f7d4e4",
   "metadata": {},
   "outputs": [],
   "source": [
    "text = \"\"\"\n",
    "Interstellar is a 2014 epic science fiction film co-written, directed, and produced by Christopher Nolan.\n",
    "It stars Matthew McConaughey, Anne Hathaway, Jessica Chastain, Bill Irwin, Ellen Burstyn, Matt Damon, and Michael Caine.\n",
    "Set in a dystopian future where humanity is struggling to survive, the film follows a group of astronauts who travel through a wormhole near Saturn in search of a new home for mankind.\n",
    "\n",
    "Brothers Christopher and Jonathan Nolan wrote the screenplay, which had its origins in a script Jonathan developed in 2007.\n",
    "Caltech theoretical physicist and 2017 Nobel laureate in Physics[4] Kip Thorne was an executive producer, acted as a scientific consultant, and wrote a tie-in book, The Science of Interstellar.\n",
    "Cinematographer Hoyte van Hoytema shot it on 35 mm movie film in the Panavision anamorphic format and IMAX 70 mm.\n",
    "Principal photography began in late 2013 and took place in Alberta, Iceland, and Los Angeles.\n",
    "Interstellar uses extensive practical and miniature effects and the company Double Negative created additional digital effects.\n",
    "\n",
    "Interstellar premiered on October 26, 2014, in Los Angeles.\n",
    "In the United States, it was first released on film stock, expanding to venues using digital projectors.\n",
    "The film had a worldwide gross over $677 million (and $773 million with subsequent re-releases), making it the tenth-highest grossing film of 2014.\n",
    "It received acclaim for its performances, direction, screenplay, musical score, visual effects, ambition, themes, and emotional weight.\n",
    "It has also received praise from many astronomers for its scientific accuracy and portrayal of theoretical astrophysics. Since its premiere, Interstellar gained a cult following,[5] and now is regarded by many sci-fi experts as one of the best science-fiction films of all time.\n",
    "Interstellar was nominated for five awards at the 87th Academy Awards, winning Best Visual Effects, and received numerous other accolades\"\"\""
   ]
  },
  {
   "cell_type": "markdown",
   "id": "5f971867-cc6c-47e0-be55-9a3e73aeaf81",
   "metadata": {},
   "source": [
    "### Chunking: "
   ]
  },
  {
   "cell_type": "code",
   "execution_count": 18,
   "id": "ac74ea01-933e-4d82-aaca-4fc320b6459d",
   "metadata": {},
   "outputs": [],
   "source": [
    "# Split into a list of sentences\n",
    "texts = text.split('.')\n",
    "\n",
    "# Clean up to remove empty spaces and new lines\n",
    "texts = np.array([t.strip(' \\n') for t in texts])"
   ]
  },
  {
   "cell_type": "code",
   "execution_count": 19,
   "id": "204c8322-d51f-4181-9779-89ff9a216dd6",
   "metadata": {},
   "outputs": [
    {
     "data": {
      "text/plain": [
       "array(['Interstellar is a 2014 epic science fiction film co-written, directed, and produced by Christopher Nolan',\n",
       "       'It stars Matthew McConaughey, Anne Hathaway, Jessica Chastain, Bill Irwin, Ellen Burstyn, Matt Damon, and Michael Caine',\n",
       "       'Set in a dystopian future where humanity is struggling to survive, the film follows a group of astronauts who travel through a wormhole near Saturn in search of a new home for mankind',\n",
       "       'Brothers Christopher and Jonathan Nolan wrote the screenplay, which had its origins in a script Jonathan developed in 2007',\n",
       "       'Caltech theoretical physicist and 2017 Nobel laureate in Physics[4] Kip Thorne was an executive producer, acted as a scientific consultant, and wrote a tie-in book, The Science of Interstellar',\n",
       "       'Cinematographer Hoyte van Hoytema shot it on 35 mm movie film in the Panavision anamorphic format and IMAX 70 mm',\n",
       "       'Principal photography began in late 2013 and took place in Alberta, Iceland, and Los Angeles',\n",
       "       'Interstellar uses extensive practical and miniature effects and the company Double Negative created additional digital effects',\n",
       "       'Interstellar premiered on October 26, 2014, in Los Angeles',\n",
       "       'In the United States, it was first released on film stock, expanding to venues using digital projectors',\n",
       "       'The film had a worldwide gross over $677 million (and $773 million with subsequent re-releases), making it the tenth-highest grossing film of 2014',\n",
       "       'It received acclaim for its performances, direction, screenplay, musical score, visual effects, ambition, themes, and emotional weight',\n",
       "       'It has also received praise from many astronomers for its scientific accuracy and portrayal of theoretical astrophysics',\n",
       "       'Since its premiere, Interstellar gained a cult following,[5] and now is regarded by many sci-fi experts as one of the best science-fiction films of all time',\n",
       "       'Interstellar was nominated for five awards at the 87th Academy Awards, winning Best Visual Effects, and received numerous other accolades'],\n",
       "      dtype='<U192')"
      ]
     },
     "execution_count": 19,
     "metadata": {},
     "output_type": "execute_result"
    }
   ],
   "source": [
    "texts"
   ]
  },
  {
   "cell_type": "code",
   "execution_count": 20,
   "id": "07276df8-4be2-4fe5-851b-9db4bc89400a",
   "metadata": {},
   "outputs": [],
   "source": [
    "# Split into a list of paragraphs\n",
    "texts = text.split('\\n\\n')\n",
    "\n",
    "# Clean up to remove empty spaces and new lines\n",
    "texts = np.array([t.strip(' \\n') for t in texts])"
   ]
  },
  {
   "cell_type": "code",
   "execution_count": 21,
   "id": "094e8a03-7033-44a2-afeb-9b2e5bfeffd2",
   "metadata": {},
   "outputs": [
    {
     "data": {
      "text/plain": [
       "array(['Interstellar is a 2014 epic science fiction film co-written, directed, and produced by Christopher Nolan.\\nIt stars Matthew McConaughey, Anne Hathaway, Jessica Chastain, Bill Irwin, Ellen Burstyn, Matt Damon, and Michael Caine.\\nSet in a dystopian future where humanity is struggling to survive, the film follows a group of astronauts who travel through a wormhole near Saturn in search of a new home for mankind.',\n",
       "       'Brothers Christopher and Jonathan Nolan wrote the screenplay, which had its origins in a script Jonathan developed in 2007.\\nCaltech theoretical physicist and 2017 Nobel laureate in Physics[4] Kip Thorne was an executive producer, acted as a scientific consultant, and wrote a tie-in book, The Science of Interstellar.\\nCinematographer Hoyte van Hoytema shot it on 35 mm movie film in the Panavision anamorphic format and IMAX 70 mm.\\nPrincipal photography began in late 2013 and took place in Alberta, Iceland, and Los Angeles.\\nInterstellar uses extensive practical and miniature effects and the company Double Negative created additional digital effects.',\n",
       "       'Interstellar premiered on October 26, 2014, in Los Angeles.\\nIn the United States, it was first released on film stock, expanding to venues using digital projectors.\\nThe film had a worldwide gross over $677 million (and $773 million with subsequent re-releases), making it the tenth-highest grossing film of 2014.\\nIt received acclaim for its performances, direction, screenplay, musical score, visual effects, ambition, themes, and emotional weight.\\nIt has also received praise from many astronomers for its scientific accuracy and portrayal of theoretical astrophysics. Since its premiere, Interstellar gained a cult following,[5] and now is regarded by many sci-fi experts as one of the best science-fiction films of all time.\\nInterstellar was nominated for five awards at the 87th Academy Awards, winning Best Visual Effects, and received numerous other accolades'],\n",
       "      dtype='<U865')"
      ]
     },
     "execution_count": 21,
     "metadata": {},
     "output_type": "execute_result"
    }
   ],
   "source": [
    "texts"
   ]
  },
  {
   "cell_type": "code",
   "execution_count": 22,
   "id": "57f4e625-f47e-4d39-96ae-bb75dd8ac995",
   "metadata": {},
   "outputs": [],
   "source": [
    "# Split into a list of sentences\n",
    "texts = text.split('.')\n",
    "\n",
    "# Clean up to remove empty spaces and new lines\n",
    "texts = np.array([t.strip(' \\n') for t in texts])"
   ]
  },
  {
   "cell_type": "code",
   "execution_count": 23,
   "id": "29a31594-6e04-45e3-a382-ef3f950e93ce",
   "metadata": {},
   "outputs": [],
   "source": [
    "title = 'Interstellar (film)'\n",
    "\n",
    "texts = np.array([f\"{title} {t}\" for t in texts])"
   ]
  },
  {
   "cell_type": "code",
   "execution_count": 24,
   "id": "cec27f79-8dda-4d0b-9df2-62a9d494a3d9",
   "metadata": {},
   "outputs": [
    {
     "data": {
      "text/plain": [
       "array(['Interstellar (film) Interstellar is a 2014 epic science fiction film co-written, directed, and produced by Christopher Nolan',\n",
       "       'Interstellar (film) It stars Matthew McConaughey, Anne Hathaway, Jessica Chastain, Bill Irwin, Ellen Burstyn, Matt Damon, and Michael Caine',\n",
       "       'Interstellar (film) Set in a dystopian future where humanity is struggling to survive, the film follows a group of astronauts who travel through a wormhole near Saturn in search of a new home for mankind',\n",
       "       'Interstellar (film) Brothers Christopher and Jonathan Nolan wrote the screenplay, which had its origins in a script Jonathan developed in 2007',\n",
       "       'Interstellar (film) Caltech theoretical physicist and 2017 Nobel laureate in Physics[4] Kip Thorne was an executive producer, acted as a scientific consultant, and wrote a tie-in book, The Science of Interstellar',\n",
       "       'Interstellar (film) Cinematographer Hoyte van Hoytema shot it on 35 mm movie film in the Panavision anamorphic format and IMAX 70 mm',\n",
       "       'Interstellar (film) Principal photography began in late 2013 and took place in Alberta, Iceland, and Los Angeles',\n",
       "       'Interstellar (film) Interstellar uses extensive practical and miniature effects and the company Double Negative created additional digital effects',\n",
       "       'Interstellar (film) Interstellar premiered on October 26, 2014, in Los Angeles',\n",
       "       'Interstellar (film) In the United States, it was first released on film stock, expanding to venues using digital projectors',\n",
       "       'Interstellar (film) The film had a worldwide gross over $677 million (and $773 million with subsequent re-releases), making it the tenth-highest grossing film of 2014',\n",
       "       'Interstellar (film) It received acclaim for its performances, direction, screenplay, musical score, visual effects, ambition, themes, and emotional weight',\n",
       "       'Interstellar (film) It has also received praise from many astronomers for its scientific accuracy and portrayal of theoretical astrophysics',\n",
       "       'Interstellar (film) Since its premiere, Interstellar gained a cult following,[5] and now is regarded by many sci-fi experts as one of the best science-fiction films of all time',\n",
       "       'Interstellar (film) Interstellar was nominated for five awards at the 87th Academy Awards, winning Best Visual Effects, and received numerous other accolades'],\n",
       "      dtype='<U212')"
      ]
     },
     "execution_count": 24,
     "metadata": {},
     "output_type": "execute_result"
    }
   ],
   "source": [
    "texts"
   ]
  },
  {
   "cell_type": "markdown",
   "id": "fb0946ac-7bf5-4500-a01c-5ec1b2fdf99e",
   "metadata": {},
   "source": [
    "### Get the embeddings:"
   ]
  },
  {
   "cell_type": "code",
   "execution_count": 26,
   "id": "933cd120-8b12-426d-94e1-f91c23d70d66",
   "metadata": {},
   "outputs": [],
   "source": [
    "response = co.embed(texts = texts.tolist()).embeddings"
   ]
  },
  {
   "cell_type": "code",
   "execution_count": 27,
   "id": "dd1d0292-28aa-448b-b21a-5246009a82c3",
   "metadata": {},
   "outputs": [
    {
     "data": {
      "text/plain": [
       "(15, 4096)"
      ]
     },
     "execution_count": 27,
     "metadata": {},
     "output_type": "execute_result"
    }
   ],
   "source": [
    "embeds = np.array(response)\n",
    "embeds.shape"
   ]
  },
  {
   "cell_type": "markdown",
   "id": "74d06b12-583a-436c-98a5-3619c0b445a9",
   "metadata": {},
   "source": [
    "### Create the search index:"
   ]
  },
  {
   "cell_type": "code",
   "execution_count": 28,
   "id": "3a148426-9e4f-47d1-8091-caa860c8005a",
   "metadata": {},
   "outputs": [
    {
     "data": {
      "text/plain": [
       "True"
      ]
     },
     "execution_count": 28,
     "metadata": {},
     "output_type": "execute_result"
    }
   ],
   "source": [
    "search_index = AnnoyIndex(embeds.shape[1], \"angular\")\n",
    "# Add all the vectors to the search index\n",
    "for i in range(len(embeds)):\n",
    "    search_index.add_item(i, embeds[i])\n",
    "\n",
    "search_index.build(10) # 10 trees\n",
    "search_index.save(\"test.ann\")"
   ]
  },
  {
   "cell_type": "code",
   "execution_count": 29,
   "id": "cbc85cb7-fbfe-4e17-8912-e2ee6b3a706e",
   "metadata": {},
   "outputs": [],
   "source": [
    "pd.set_option(\"display.max_colwidth\", None)\n",
    "\n",
    "def search(query):\n",
    "\n",
    "  # Get the query's embedding\n",
    "  query_embed = co.embed(texts=[query]).embeddings\n",
    "\n",
    "  # Retrieve the nearest neighbors\n",
    "  similar_item_ids = search_index.get_nns_by_vector(query_embed[0],\n",
    "                                                    3,\n",
    "                                                  include_distances=True)\n",
    "  # Format the results\n",
    "  results = pd.DataFrame(data = {\"texts\": texts[similar_item_ids[0]],\n",
    "                                 \"distance\": similar_item_ids[1]})\n",
    "\n",
    "  print(texts[similar_item_ids[0]])\n",
    "    \n",
    "  return results"
   ]
  },
  {
   "cell_type": "code",
   "execution_count": 30,
   "id": "9aad94ff-9311-4606-a2e8-100a64da58cc",
   "metadata": {},
   "outputs": [
    {
     "name": "stdout",
     "output_type": "stream",
     "text": [
      "['Interstellar (film) The film had a worldwide gross over $677 million (and $773 million with subsequent re-releases), making it the tenth-highest grossing film of 2014'\n",
      " 'Interstellar (film) Interstellar premiered on October 26, 2014, in Los Angeles'\n",
      " 'Interstellar (film) In the United States, it was first released on film stock, expanding to venues using digital projectors']\n"
     ]
    },
    {
     "data": {
      "text/html": [
       "<div>\n",
       "<style scoped>\n",
       "    .dataframe tbody tr th:only-of-type {\n",
       "        vertical-align: middle;\n",
       "    }\n",
       "\n",
       "    .dataframe tbody tr th {\n",
       "        vertical-align: top;\n",
       "    }\n",
       "\n",
       "    .dataframe thead th {\n",
       "        text-align: right;\n",
       "    }\n",
       "</style>\n",
       "<table border=\"1\" class=\"dataframe\">\n",
       "  <thead>\n",
       "    <tr style=\"text-align: right;\">\n",
       "      <th></th>\n",
       "      <th>texts</th>\n",
       "      <th>distance</th>\n",
       "    </tr>\n",
       "  </thead>\n",
       "  <tbody>\n",
       "    <tr>\n",
       "      <th>0</th>\n",
       "      <td>Interstellar (film) The film had a worldwide gross over $677 million (and $773 million with subsequent re-releases), making it the tenth-highest grossing film of 2014</td>\n",
       "      <td>1.019056</td>\n",
       "    </tr>\n",
       "    <tr>\n",
       "      <th>1</th>\n",
       "      <td>Interstellar (film) Interstellar premiered on October 26, 2014, in Los Angeles</td>\n",
       "      <td>1.144951</td>\n",
       "    </tr>\n",
       "    <tr>\n",
       "      <th>2</th>\n",
       "      <td>Interstellar (film) In the United States, it was first released on film stock, expanding to venues using digital projectors</td>\n",
       "      <td>1.167268</td>\n",
       "    </tr>\n",
       "  </tbody>\n",
       "</table>\n",
       "</div>"
      ],
      "text/plain": [
       "                                                                                                                                                                    texts  \\\n",
       "0  Interstellar (film) The film had a worldwide gross over $677 million (and $773 million with subsequent re-releases), making it the tenth-highest grossing film of 2014   \n",
       "1                                                                                          Interstellar (film) Interstellar premiered on October 26, 2014, in Los Angeles   \n",
       "2                                             Interstellar (film) In the United States, it was first released on film stock, expanding to venues using digital projectors   \n",
       "\n",
       "   distance  \n",
       "0  1.019056  \n",
       "1  1.144951  \n",
       "2  1.167268  "
      ]
     },
     "execution_count": 30,
     "metadata": {},
     "output_type": "execute_result"
    }
   ],
   "source": [
    "query = \"How much did the film make?\"\n",
    "search(query)"
   ]
  },
  {
   "cell_type": "code",
   "execution_count": null,
   "id": "cc195c06-7473-49f7-bb9f-54a7afab45b7",
   "metadata": {},
   "outputs": [],
   "source": []
  }
 ],
 "metadata": {
  "kernelspec": {
   "display_name": "Python 3 (ipykernel)",
   "language": "python",
   "name": "python3"
  },
  "language_info": {
   "codemirror_mode": {
    "name": "ipython",
    "version": 3
   },
   "file_extension": ".py",
   "mimetype": "text/x-python",
   "name": "python",
   "nbconvert_exporter": "python",
   "pygments_lexer": "ipython3",
   "version": "3.10.8"
  }
 },
 "nbformat": 4,
 "nbformat_minor": 5
}
