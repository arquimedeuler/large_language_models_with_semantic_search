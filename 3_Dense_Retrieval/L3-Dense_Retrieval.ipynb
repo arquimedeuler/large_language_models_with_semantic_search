{
 "cells": [
  {
   "cell_type": "markdown",
   "id": "091f7b6a-7cb7-42d3-bd7c-ecb220be50e2",
   "metadata": {},
   "source": [
    "# Dense Retrieval"
   ]
  },
  {
   "cell_type": "markdown",
   "id": "256dab03-9a96-4a14-b344-61732f59045a",
   "metadata": {},
   "source": [
    "## Setup\r\n",
    "\r\n",
    "Load needed API keys and relevant Python libaries."
   ]
  },
  {
   "cell_type": "code",
   "execution_count": null,
   "id": "f0616e90-9341-4efa-8cd7-1ea52331adfb",
   "metadata": {},
   "outputs": [],
   "source": [
    "# !pip install cohere \n",
    "# !pip install weaviate-client Annoy"
   ]
  },
  {
   "cell_type": "code",
   "execution_count": null,
   "id": "92973ea6-f0fc-42ea-b2c3-1e8f632036b9",
   "metadata": {},
   "outputs": [],
   "source": [
    "import os\n",
    "from dotenv import load_dotenv, find_dotenv\n",
    "_ = load_dotenv(find_dotenv()) # read local .env file"
   ]
  },
  {
   "cell_type": "code",
   "execution_count": null,
   "id": "1679ef16-61f0-415e-82dd-3cdfed01fe57",
   "metadata": {},
   "outputs": [],
   "source": [
    "import cohere\n",
    "co = cohere.Client(\"c70AvJ6DUm1S6kwQJUyJsPEAI683RH2DjOr7QPiG\")"
   ]
  },
  {
   "cell_type": "code",
   "execution_count": null,
   "id": "eb3a7754-4d52-4023-ac99-64e61901c09c",
   "metadata": {},
   "outputs": [],
   "source": [
    "import weaviate\n",
    "auth_config = weaviate.auth.AuthApiKey(api_key = \"76320a90-53d8-42bc-b41d-678647c6672e\")"
   ]
  },
  {
   "cell_type": "code",
   "execution_count": null,
   "id": "f3e6269d-242e-4171-8603-4cd146952ae9",
   "metadata": {},
   "outputs": [],
   "source": [
    "client = weaviate.Client(url = \"https://cohere-demo.weaviate.network/\",\n",
    "                         auth_client_secret = auth_config,\n",
    "                         additional_headers = {\"X-Cohere-Api-Key\":\n",
    "                                               \"c70AvJ6DUm1S6kwQJUyJsPEAI683RH2DjOr7QPiG\",\n",
    "                                              })"
   ]
  },
  {
   "cell_type": "code",
   "execution_count": null,
   "id": "16ee8848-2c5a-49be-a823-653480d5c0f4",
   "metadata": {},
   "outputs": [],
   "source": [
    "client.is_ready()"
   ]
  },
  {
   "cell_type": "markdown",
   "id": "a2235724-a334-4e79-aa81-758b2b66cbe4",
   "metadata": {},
   "source": [
    "## Part 1: Vector Database for semantic Search"
   ]
  },
  {
   "cell_type": "code",
   "execution_count": null,
   "id": "5295a32a-8ea3-42a2-817d-ef7a5a1c8640",
   "metadata": {},
   "outputs": [],
   "source": [
    "def dense_retrieval(query, \n",
    "                    results_lang = \"en\",\n",
    "                    properties = [\"text\", \"title\", \"url\", \"views\", \"lang\", \"_additional {distance}\"],\n",
    "                    num_results = 5):\n",
    "\n",
    "    nearText = {\"concepts\": [query]}\n",
    "    \n",
    "    # To filter by language\n",
    "    where_filter = {\"path\": [\"lang\"],\n",
    "                    \"operator\": \"Equal\",\n",
    "                    \"valueString\": results_lang}\n",
    "    response = (client.query\n",
    "                .get(\"Articles\", properties)\n",
    "                .with_near_text(nearText)\n",
    "                .with_where(where_filter)\n",
    "                .with_limit(num_results)\n",
    "                .do())\n",
    "\n",
    "    result = response[\"data\"][\"Get\"][\"Articles\"]\n",
    "\n",
    "    return result"
   ]
  },
  {
   "cell_type": "code",
   "execution_count": null,
   "id": "e30f0314-732a-4052-a21f-34377ef83d0d",
   "metadata": {},
   "outputs": [],
   "source": [
    "from utils import print_result"
   ]
  },
  {
   "cell_type": "markdown",
   "id": "943dd246-3f0a-4747-bdff-bb328d64c304",
   "metadata": {},
   "source": [
    "### Bacic Query"
   ]
  },
  {
   "cell_type": "code",
   "execution_count": null,
   "id": "6e0e9448-c26a-4eea-9fad-5947a5ca71c7",
   "metadata": {},
   "outputs": [],
   "source": [
    "query = \"Who wrote Hamlet?\"\n",
    "dense_retrieval_results = dense_retrieval(query)\n",
    "print_result(dense_retrieval_results)"
   ]
  },
  {
   "cell_type": "markdown",
   "id": "5fdacd60-aa92-43cb-87cd-078d40a4435f",
   "metadata": {},
   "source": [
    "### Medium Query"
   ]
  },
  {
   "cell_type": "code",
   "execution_count": null,
   "id": "33d7d162-fad6-47ea-a6ea-ce5a42107eab",
   "metadata": {},
   "outputs": [],
   "source": [
    "query = \"What is the capital of Canada?\"\n",
    "dense_retrieval_results = dense_retrieval(query)\n",
    "print_result(dense_retrieval_results)"
   ]
  },
  {
   "cell_type": "code",
   "execution_count": null,
   "id": "93556b45-59c3-4989-b380-ebc9324272c3",
   "metadata": {},
   "outputs": [],
   "source": [
    "from utils import keyword_search\n",
    "\n",
    "query = \"What is the capital of Canada?\"\n",
    "keyword_search_results = keyword_search(query, client)\n",
    "print_result(keyword_search_results)"
   ]
  },
  {
   "cell_type": "markdown",
   "id": "3577ec52-8f0c-4e58-b179-25b51f8c8047",
   "metadata": {},
   "source": [
    "### Complicated Query"
   ]
  },
  {
   "cell_type": "code",
   "execution_count": null,
   "id": "71a1cadb-6128-4a98-8dde-2c3c7edfb0c6",
   "metadata": {},
   "outputs": [],
   "source": [
    "from utils import keyword_search\n",
    "\n",
    "query = \"Tallest person in history?\"\n",
    "keyword_search_results = keyword_search(query, client)\n",
    "print_result(keyword_search_results)"
   ]
  },
  {
   "cell_type": "code",
   "execution_count": null,
   "id": "406c029c-c6eb-47dd-96fc-6056eea4dd6e",
   "metadata": {},
   "outputs": [],
   "source": [
    "query = \"Tallest person in history\"\n",
    "dense_retrieval_results = dense_retrieval(query)\n",
    "print_result(dense_retrieval_results)"
   ]
  },
  {
   "cell_type": "code",
   "execution_count": null,
   "id": "13d56607-be41-47ae-a595-a5d74c272869",
   "metadata": {},
   "outputs": [],
   "source": [
    "query = \"أطول رجل في التاريخ\"\n",
    "dense_retrieval_results = dense_retrieval(query)\n",
    "print_result(dense_retrieval_results)"
   ]
  },
  {
   "cell_type": "code",
   "execution_count": null,
   "id": "61a7e772-07ed-4e53-8266-87410a7133cf",
   "metadata": {},
   "outputs": [],
   "source": [
    "query = \"film about a time travel paradox\"\n",
    "dense_retrieval_results = dense_retrieval(query)\n",
    "print_result(dense_retrieval_results)"
   ]
  },
  {
   "cell_type": "markdown",
   "id": "f209676e-27f6-45b7-a517-4a26af09cad1",
   "metadata": {},
   "source": [
    "## Part 2: Building Semantic Search from Scratch\r\n",
    "\r\n",
    "### Get the text archive:"
   ]
  },
  {
   "cell_type": "code",
   "execution_count": null,
   "id": "74e86772-1c46-4443-99a1-fd8e885c988b",
   "metadata": {},
   "outputs": [],
   "source": [
    "from annoy import AnnoyIndex\n",
    "import numpy as np\n",
    "import pandas as pd\n",
    "import re"
   ]
  },
  {
   "cell_type": "code",
   "execution_count": null,
   "id": "5205f730-7f4c-4d2e-8a31-024ae0f7d4e4",
   "metadata": {},
   "outputs": [],
   "source": [
    "text = \"\"\"\n",
    "Interstellar is a 2014 epic science fiction film co-written, directed, and produced by Christopher Nolan.\n",
    "It stars Matthew McConaughey, Anne Hathaway, Jessica Chastain, Bill Irwin, Ellen Burstyn, Matt Damon, and Michael Caine.\n",
    "Set in a dystopian future where humanity is struggling to survive, the film follows a group of astronauts who travel through a wormhole near Saturn in search of a new home for mankind.\n",
    "\n",
    "Brothers Christopher and Jonathan Nolan wrote the screenplay, which had its origins in a script Jonathan developed in 2007.\n",
    "Caltech theoretical physicist and 2017 Nobel laureate in Physics[4] Kip Thorne was an executive producer, acted as a scientific consultant, and wrote a tie-in book, The Science of Interstellar.\n",
    "Cinematographer Hoyte van Hoytema shot it on 35 mm movie film in the Panavision anamorphic format and IMAX 70 mm.\n",
    "Principal photography began in late 2013 and took place in Alberta, Iceland, and Los Angeles.\n",
    "Interstellar uses extensive practical and miniature effects and the company Double Negative created additional digital effects.\n",
    "\n",
    "Interstellar premiered on October 26, 2014, in Los Angeles.\n",
    "In the United States, it was first released on film stock, expanding to venues using digital projectors.\n",
    "The film had a worldwide gross over $677 million (and $773 million with subsequent re-releases), making it the tenth-highest grossing film of 2014.\n",
    "It received acclaim for its performances, direction, screenplay, musical score, visual effects, ambition, themes, and emotional weight.\n",
    "It has also received praise from many astronomers for its scientific accuracy and portrayal of theoretical astrophysics. Since its premiere, Interstellar gained a cult following,[5] and now is regarded by many sci-fi experts as one of the best science-fiction films of all time.\n",
    "Interstellar was nominated for five awards at the 87th Academy Awards, winning Best Visual Effects, and received numerous other accolades\"\"\""
   ]
  },
  {
   "cell_type": "markdown",
   "id": "5f971867-cc6c-47e0-be55-9a3e73aeaf81",
   "metadata": {},
   "source": [
    "### Chunking: "
   ]
  },
  {
   "cell_type": "code",
   "execution_count": null,
   "id": "ac74ea01-933e-4d82-aaca-4fc320b6459d",
   "metadata": {},
   "outputs": [],
   "source": [
    "# Split into a list of sentences\n",
    "texts = text.split('.')\n",
    "\n",
    "# Clean up to remove empty spaces and new lines\n",
    "texts = np.array([t.strip(' \\n') for t in texts])"
   ]
  },
  {
   "cell_type": "code",
   "execution_count": null,
   "id": "204c8322-d51f-4181-9779-89ff9a216dd6",
   "metadata": {},
   "outputs": [],
   "source": []
  }
 ],
 "metadata": {
  "kernelspec": {
   "display_name": "Python 3 (ipykernel)",
   "language": "python",
   "name": "python3"
  },
  "language_info": {
   "codemirror_mode": {
    "name": "ipython",
    "version": 3
   },
   "file_extension": ".py",
   "mimetype": "text/x-python",
   "name": "python",
   "nbconvert_exporter": "python",
   "pygments_lexer": "ipython3",
   "version": "3.12.1"
  }
 },
 "nbformat": 4,
 "nbformat_minor": 5
}
